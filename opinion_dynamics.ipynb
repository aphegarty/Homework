{
 "cells": [
  {
   "cell_type": "markdown",
   "metadata": {},
   "source": [
    "# Opinion dynamics"
   ]
  },
  {
   "cell_type": "markdown",
   "metadata": {},
   "source": [
    "Baseline paramaters\n",
    "\n",
    "Net-size: 100 – It seems like a nice, round number\n",
    "\n",
    "Num-comms: 3 - The average person has 3-5 close friends (https://www.bustle.com/articles/158302-the-ideal-number-of-best-friends-is-lower-than-you-think-but-dont-start-dropping-people). I think close friends would be most able to have valued opinions. Only some of them may be close enough to influence your opinions, so we’ll stay on the low end.\n",
    "\n",
    "BC-level: 3.17 - The standard deviation of a range 1-12 with uniform distribution"
   ]
  },
  {
   "cell_type": "code",
   "execution_count": 31,
   "metadata": {
    "scrolled": true
   },
   "outputs": [],
   "source": [
    "library(tidyverse)\n",
    "library(dplyr)"
   ]
  },
  {
   "cell_type": "code",
   "execution_count": 32,
   "metadata": {},
   "outputs": [],
   "source": [
    "#import \n",
    "numconn_runs <- read.csv('numconn.csv', skip=6, header=TRUE)"
   ]
  },
  {
   "cell_type": "code",
   "execution_count": 33,
   "metadata": {},
   "outputs": [],
   "source": [
    "bclvl_runs <- read.csv('bclvl.csv', skip=6, header=TRUE)"
   ]
  },
  {
   "cell_type": "code",
   "execution_count": 34,
   "metadata": {},
   "outputs": [],
   "source": [
    "size_runs <- read.csv('size.csv', skip=6, header=TRUE)"
   ]
  },
  {
   "cell_type": "code",
   "execution_count": 35,
   "metadata": {},
   "outputs": [
    {
     "data": {
      "text/html": [
       "<table>\n",
       "<thead><tr><th scope=col>X.run.number.</th><th scope=col>BC.level</th><th scope=col>net.size</th><th scope=col>num.conns</th><th scope=col>X.step.</th><th scope=col>num.zones.value</th></tr></thead>\n",
       "<tbody>\n",
       "\t<tr><td>7   </td><td>3.17</td><td>100 </td><td>1   </td><td> 69 </td><td>35  </td></tr>\n",
       "\t<tr><td>4   </td><td>3.17</td><td>100 </td><td>1   </td><td>139 </td><td>36  </td></tr>\n",
       "\t<tr><td>8   </td><td>3.17</td><td>100 </td><td>1   </td><td>162 </td><td>40  </td></tr>\n",
       "\t<tr><td>2   </td><td>3.17</td><td>100 </td><td>1   </td><td>107 </td><td>41  </td></tr>\n",
       "\t<tr><td>5   </td><td>3.17</td><td>100 </td><td>1   </td><td>163 </td><td>36  </td></tr>\n",
       "\t<tr><td>3   </td><td>3.17</td><td>100 </td><td>1   </td><td> 85 </td><td>46  </td></tr>\n",
       "</tbody>\n",
       "</table>\n"
      ],
      "text/latex": [
       "\\begin{tabular}{r|llllll}\n",
       " X.run.number. & BC.level & net.size & num.conns & X.step. & num.zones.value\\\\\n",
       "\\hline\n",
       "\t 7    & 3.17 & 100  & 1    &  69  & 35  \\\\\n",
       "\t 4    & 3.17 & 100  & 1    & 139  & 36  \\\\\n",
       "\t 8    & 3.17 & 100  & 1    & 162  & 40  \\\\\n",
       "\t 2    & 3.17 & 100  & 1    & 107  & 41  \\\\\n",
       "\t 5    & 3.17 & 100  & 1    & 163  & 36  \\\\\n",
       "\t 3    & 3.17 & 100  & 1    &  85  & 46  \\\\\n",
       "\\end{tabular}\n"
      ],
      "text/markdown": [
       "\n",
       "X.run.number. | BC.level | net.size | num.conns | X.step. | num.zones.value | \n",
       "|---|---|---|---|---|---|\n",
       "| 7    | 3.17 | 100  | 1    |  69  | 35   | \n",
       "| 4    | 3.17 | 100  | 1    | 139  | 36   | \n",
       "| 8    | 3.17 | 100  | 1    | 162  | 40   | \n",
       "| 2    | 3.17 | 100  | 1    | 107  | 41   | \n",
       "| 5    | 3.17 | 100  | 1    | 163  | 36   | \n",
       "| 3    | 3.17 | 100  | 1    |  85  | 46   | \n",
       "\n",
       "\n"
      ],
      "text/plain": [
       "  X.run.number. BC.level net.size num.conns X.step. num.zones.value\n",
       "1 7             3.17     100      1          69     35             \n",
       "2 4             3.17     100      1         139     36             \n",
       "3 8             3.17     100      1         162     40             \n",
       "4 2             3.17     100      1         107     41             \n",
       "5 5             3.17     100      1         163     36             \n",
       "6 3             3.17     100      1          85     46             "
      ]
     },
     "metadata": {},
     "output_type": "display_data"
    }
   ],
   "source": [
    "head(numconn_runs)"
   ]
  },
  {
   "cell_type": "code",
   "execution_count": 36,
   "metadata": {},
   "outputs": [],
   "source": [
    "numconn_group <- numconn_runs %>%\n",
    "  group_by(num.conns) %>%\n",
    "  summarise(\n",
    "    mean_20 = mean(num.zones.value)\n",
    "  )"
   ]
  },
  {
   "cell_type": "code",
   "execution_count": 37,
   "metadata": {},
   "outputs": [],
   "source": [
    "bclvl_group <- bclvl_runs %>%\n",
    "  group_by(BC.level) %>%\n",
    "  summarise(\n",
    "    mean_20 = mean(num.zones.value)\n",
    "  )"
   ]
  },
  {
   "cell_type": "code",
   "execution_count": 38,
   "metadata": {},
   "outputs": [],
   "source": [
    "size_group <- size_runs %>%\n",
    "  group_by(net.size) %>%\n",
    "  summarise(\n",
    "    mean_20 = mean(num.zones.value)\n",
    "  )"
   ]
  },
  {
   "cell_type": "markdown",
   "metadata": {},
   "source": [
    "# Number of connections"
   ]
  },
  {
   "cell_type": "code",
   "execution_count": 39,
   "metadata": {
    "scrolled": true
   },
   "outputs": [
    {
     "name": "stderr",
     "output_type": "stream",
     "text": [
      "`geom_smooth()` using method = 'loess' and formula 'y ~ x'\n"
     ]
    },
    {
     "data": {},
     "metadata": {},
     "output_type": "display_data"
    },
    {
     "data": {
      "image/png": "[encoded data removed]",
      "text/plain": [
       "plot without title"
      ]
     },
     "metadata": {},
     "output_type": "display_data"
    }
   ],
   "source": [
    "ggplot(numconn_runs, aes(x=num.conns, y=num.zones.value)) + geom_point(color=\"gray\") + geom_point(data=numconn_group, mapping=aes(x=num.conns, y=mean_20), color=\"blue\") + geom_smooth(se=FALSE)"
   ]
  },
  {
   "cell_type": "markdown",
   "metadata": {},
   "source": [
    "There is almost always just 1 joint opinion group with 5 or more connections. Having 1 group also occured with 3 and 4 connections, but not 2. This result makes sense. The more people you engage with, the more your opinion will be or is likely to be changed."
   ]
  },
  {
   "cell_type": "markdown",
   "metadata": {},
   "source": [
    "# BC level"
   ]
  },
  {
   "cell_type": "code",
   "execution_count": 40,
   "metadata": {
    "scrolled": true
   },
   "outputs": [
    {
     "name": "stderr",
     "output_type": "stream",
     "text": [
      "`geom_smooth()` using method = 'loess' and formula 'y ~ x'\n"
     ]
    },
    {
     "data": {},
     "metadata": {},
     "output_type": "display_data"
    },
    {
     "data": {
      "image/png": "[encoded data removed]",
      "text/plain": [
       "plot without title"
      ]
     },
     "metadata": {},
     "output_type": "display_data"
    }
   ],
   "source": [
    "ggplot(bclvl_runs, aes(x=BC.level, y=num.zones.value)) + geom_point(color=\"gray\") + geom_point(data=bclvl_group, mapping=aes(x=BC.level, y=mean_20), color=\"blue\") + geom_smooth(se=FALSE)"
   ]
  },
  {
   "cell_type": "markdown",
   "metadata": {},
   "source": [
    "The more tolerant people are of other opinions (the more they let them influence them), the more convergance there will be. \n",
    "\n",
    "It is difficult to indentify where the BC-level is in America today, because we don't know how many groups there should be. It's tempting, but we can't say that we expect there to be 2 main groups - Republicans and Democrats - and therefore our BC-level is 3-4ish. We can't say that because the structure of our election systems dictate a choice between 2, and other systems may result in major third parties. This has nothing to do with how people are influenced.\n",
    "\n",
    "It is also can't be assumed this model is even accurate enough - perhaps some people people will become more extreme if connected with the other extreme. "
   ]
  },
  {
   "cell_type": "code",
   "execution_count": 41,
   "metadata": {},
   "outputs": [
    {
     "name": "stderr",
     "output_type": "stream",
     "text": [
      "`geom_smooth()` using method = 'gam' and formula 'y ~ s(x, bs = \"cs\")'\n"
     ]
    },
    {
     "data": {},
     "metadata": {},
     "output_type": "display_data"
    },
    {
     "data": {
      "image/png": "[encoded data removed]",
      "text/plain": [
       "plot without title"
      ]
     },
     "metadata": {},
     "output_type": "display_data"
    }
   ],
   "source": [
    "ggplot(size_runs, aes(x=net.size, y=num.zones.value)) + geom_point(color=\"gray\") + geom_point(data=size_group, mapping=aes(x=net.size, y=mean_20), color=\"blue\") + geom_smooth(se=FALSE)"
   ]
  },
  {
   "cell_type": "markdown",
   "metadata": {},
   "source": [
    "The more people there are, the more groups there are likely to be. With groups only being defined as opinion within 0.1, this is expected. With more people, there are more likely to be more islands of opinion."
   ]
  }
 ],
 "metadata": {
  "kernelspec": {
   "display_name": "R",
   "language": "R",
   "name": "ir"
  },
  "language_info": {
   "codemirror_mode": "r",
   "file_extension": ".r",
   "mimetype": "text/x-r-source",
   "name": "R",
   "pygments_lexer": "r",
   "version": "3.4.3"
  }
 },
 "nbformat": 4,
 "nbformat_minor": 2
}
